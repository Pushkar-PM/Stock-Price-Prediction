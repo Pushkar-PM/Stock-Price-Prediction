{
 "cells": [
  {
   "cell_type": "code",
   "execution_count": 46,
   "metadata": {
    "_cell_guid": "b1076dfc-b9ad-4769-8c92-a6c4dae69d19",
    "_uuid": "8f2839f25d086af736a60e9eeb907d3b93b6e0e5",
    "execution": {
     "iopub.execute_input": "2021-06-27T18:04:58.467727Z",
     "iopub.status.busy": "2021-06-27T18:04:58.467291Z",
     "iopub.status.idle": "2021-06-27T18:04:58.493084Z",
     "shell.execute_reply": "2021-06-27T18:04:58.492171Z",
     "shell.execute_reply.started": "2021-06-27T18:04:58.467656Z"
    }
   },
   "outputs": [],
   "source": [
    "\n",
    "\n",
    "import numpy as np # linear algebra\n",
    "import pandas as pd # data processing, CSV file I/O (e.g. pd.read_csv)\n",
    "\n",
    "\n",
    "\n",
    "import os\n",
    "for dirname, _, filenames in os.walk('/kaggle/input'):\n",
    "    for filename in filenames:\n",
    "        print(os.path.join(dirname, filename))"
   ]
  },
  {
   "cell_type": "code",
   "execution_count": 47,
   "metadata": {
    "execution": {
     "iopub.execute_input": "2021-06-27T18:05:28.887317Z",
     "iopub.status.busy": "2021-06-27T18:05:28.886906Z",
     "iopub.status.idle": "2021-06-27T18:05:28.9303Z",
     "shell.execute_reply": "2021-06-27T18:05:28.928792Z",
     "shell.execute_reply.started": "2021-06-27T18:05:28.887293Z"
    }
   },
   "outputs": [
    {
     "data": {
      "text/html": [
       "<div>\n",
       "<style scoped>\n",
       "    .dataframe tbody tr th:only-of-type {\n",
       "        vertical-align: middle;\n",
       "    }\n",
       "\n",
       "    .dataframe tbody tr th {\n",
       "        vertical-align: top;\n",
       "    }\n",
       "\n",
       "    .dataframe thead th {\n",
       "        text-align: right;\n",
       "    }\n",
       "</style>\n",
       "<table border=\"1\" class=\"dataframe\">\n",
       "  <thead>\n",
       "    <tr style=\"text-align: right;\">\n",
       "      <th></th>\n",
       "      <th>Date</th>\n",
       "      <th>Open</th>\n",
       "      <th>High</th>\n",
       "      <th>Low</th>\n",
       "      <th>Close</th>\n",
       "      <th>Adj Close</th>\n",
       "      <th>Volume</th>\n",
       "    </tr>\n",
       "  </thead>\n",
       "  <tbody>\n",
       "    <tr>\n",
       "      <th>0</th>\n",
       "      <td>24-04-2017</td>\n",
       "      <td>102.800003</td>\n",
       "      <td>103.349998</td>\n",
       "      <td>101.250000</td>\n",
       "      <td>102.150002</td>\n",
       "      <td>102.150002</td>\n",
       "      <td>212720</td>\n",
       "    </tr>\n",
       "    <tr>\n",
       "      <th>1</th>\n",
       "      <td>25-04-2017</td>\n",
       "      <td>102.000000</td>\n",
       "      <td>103.500000</td>\n",
       "      <td>101.900002</td>\n",
       "      <td>102.150002</td>\n",
       "      <td>102.150002</td>\n",
       "      <td>160108</td>\n",
       "    </tr>\n",
       "    <tr>\n",
       "      <th>2</th>\n",
       "      <td>26-04-2017</td>\n",
       "      <td>102.900002</td>\n",
       "      <td>104.699997</td>\n",
       "      <td>101.750000</td>\n",
       "      <td>102.449997</td>\n",
       "      <td>102.449997</td>\n",
       "      <td>416135</td>\n",
       "    </tr>\n",
       "    <tr>\n",
       "      <th>3</th>\n",
       "      <td>27-04-2017</td>\n",
       "      <td>102.550003</td>\n",
       "      <td>103.250000</td>\n",
       "      <td>102.250000</td>\n",
       "      <td>102.550003</td>\n",
       "      <td>102.550003</td>\n",
       "      <td>102139</td>\n",
       "    </tr>\n",
       "    <tr>\n",
       "      <th>4</th>\n",
       "      <td>28-04-2017</td>\n",
       "      <td>103.199997</td>\n",
       "      <td>107.900002</td>\n",
       "      <td>102.500000</td>\n",
       "      <td>105.949997</td>\n",
       "      <td>105.949997</td>\n",
       "      <td>1132635</td>\n",
       "    </tr>\n",
       "  </tbody>\n",
       "</table>\n",
       "</div>"
      ],
      "text/plain": [
       "         Date        Open        High         Low       Close   Adj Close  \\\n",
       "0  24-04-2017  102.800003  103.349998  101.250000  102.150002  102.150002   \n",
       "1  25-04-2017  102.000000  103.500000  101.900002  102.150002  102.150002   \n",
       "2  26-04-2017  102.900002  104.699997  101.750000  102.449997  102.449997   \n",
       "3  27-04-2017  102.550003  103.250000  102.250000  102.550003  102.550003   \n",
       "4  28-04-2017  103.199997  107.900002  102.500000  105.949997  105.949997   \n",
       "\n",
       "    Volume  \n",
       "0   212720  \n",
       "1   160108  \n",
       "2   416135  \n",
       "3   102139  \n",
       "4  1132635  "
      ]
     },
     "execution_count": 47,
     "metadata": {},
     "output_type": "execute_result"
    }
   ],
   "source": [
    "df = pd.read_csv(\"CENTRALBANK_NEW_5Y.csv\")\n",
    "df.head()"
   ]
  },
  {
   "cell_type": "code",
   "execution_count": 48,
   "metadata": {
    "execution": {
     "iopub.execute_input": "2021-06-27T18:05:46.927875Z",
     "iopub.status.busy": "2021-06-27T18:05:46.927591Z",
     "iopub.status.idle": "2021-06-27T18:05:46.934549Z",
     "shell.execute_reply": "2021-06-27T18:05:46.933699Z",
     "shell.execute_reply.started": "2021-06-27T18:05:46.927851Z"
    }
   },
   "outputs": [
    {
     "data": {
      "text/plain": [
       "0       102.150002\n",
       "1       102.150002\n",
       "2       102.449997\n",
       "3       102.550003\n",
       "4       105.949997\n",
       "           ...    \n",
       "1231     19.350000\n",
       "1232     19.850000\n",
       "1233     19.900000\n",
       "1234     19.850000\n",
       "1235     19.600000\n",
       "Name: Close, Length: 1236, dtype: float64"
      ]
     },
     "execution_count": 48,
     "metadata": {},
     "output_type": "execute_result"
    }
   ],
   "source": [
    "close = df[\"Close\"]\n",
    "close.shape\n",
    "close"
   ]
  },
  {
   "cell_type": "code",
   "execution_count": 49,
   "metadata": {
    "execution": {
     "iopub.execute_input": "2021-06-27T18:06:00.466987Z",
     "iopub.status.busy": "2021-06-27T18:06:00.466605Z",
     "iopub.status.idle": "2021-06-27T18:06:00.472764Z",
     "shell.execute_reply": "2021-06-27T18:06:00.471993Z",
     "shell.execute_reply.started": "2021-06-27T18:06:00.466962Z"
    }
   },
   "outputs": [
    {
     "data": {
      "text/plain": [
       "(1236,)"
      ]
     },
     "execution_count": 49,
     "metadata": {},
     "output_type": "execute_result"
    }
   ],
   "source": [
    "close = close.dropna()\n",
    "close.shape"
   ]
  },
  {
   "cell_type": "code",
   "execution_count": 50,
   "metadata": {
    "execution": {
     "iopub.execute_input": "2021-06-27T18:06:17.422769Z",
     "iopub.status.busy": "2021-06-27T18:06:17.422426Z",
     "iopub.status.idle": "2021-06-27T18:06:18.62155Z",
     "shell.execute_reply": "2021-06-27T18:06:18.621025Z",
     "shell.execute_reply.started": "2021-06-27T18:06:17.42274Z"
    }
   },
   "outputs": [
    {
     "name": "stdout",
     "output_type": "stream",
     "text": [
      "[[0.83062331]\n",
      " [0.83062331]\n",
      " [0.83333329]\n",
      " ...\n",
      " [0.08762421]\n",
      " [0.08717254]\n",
      " [0.08491418]]\n"
     ]
    }
   ],
   "source": [
    "from sklearn.preprocessing import MinMaxScaler\n",
    "scaler = MinMaxScaler(feature_range=(0,1))\n",
    "tmp = scaler.fit(np.array(close).reshape(-1,1))\n",
    "new_df = scaler.transform(np.array(close).reshape(-1,1))\n",
    "\n",
    " \n",
    "print(new_df)"
   ]
  },
  {
   "cell_type": "code",
   "execution_count": 51,
   "metadata": {
    "execution": {
     "iopub.execute_input": "2021-06-27T18:06:31.661922Z",
     "iopub.status.busy": "2021-06-27T18:06:31.661531Z",
     "iopub.status.idle": "2021-06-27T18:06:31.667961Z",
     "shell.execute_reply": "2021-06-27T18:06:31.666876Z",
     "shell.execute_reply.started": "2021-06-27T18:06:31.661897Z"
    }
   },
   "outputs": [
    {
     "name": "stdout",
     "output_type": "stream",
     "text": [
      "(828, 1)\n",
      "(408, 1)\n"
     ]
    }
   ],
   "source": [
    "training_size=int(len(new_df)*0.67)\n",
    "test_size=len(new_df)-training_size\n",
    "train_data,test_data=new_df[0:training_size,:],new_df[training_size:len(new_df),:1]\n",
    "\n",
    "print(train_data.shape)\n",
    "print(test_data.shape)"
   ]
  },
  {
   "cell_type": "code",
   "execution_count": 52,
   "metadata": {
    "execution": {
     "iopub.execute_input": "2021-06-27T18:06:40.302482Z",
     "iopub.status.busy": "2021-06-27T18:06:40.302115Z",
     "iopub.status.idle": "2021-06-27T18:06:40.308353Z",
     "shell.execute_reply": "2021-06-27T18:06:40.307241Z",
     "shell.execute_reply.started": "2021-06-27T18:06:40.302459Z"
    }
   },
   "outputs": [],
   "source": [
    "def create_dataset(dataset, time_step=1):\n",
    "\tdataX, dataY = [], []\n",
    "\tfor i in range(len(dataset)-time_step-1):\n",
    "\t\ta = dataset[i:(i+time_step), 0]   ###i=0, 0,1,2,3-----99   100 \n",
    "\t\tdataX.append(a)\n",
    "\t\tdataY.append(dataset[i + time_step, 0])\n",
    "\treturn np.array(dataX), np.array(dataY)"
   ]
  },
  {
   "cell_type": "code",
   "execution_count": 53,
   "metadata": {
    "execution": {
     "iopub.execute_input": "2021-06-27T18:06:49.49309Z",
     "iopub.status.busy": "2021-06-27T18:06:49.492788Z",
     "iopub.status.idle": "2021-06-27T18:06:49.500357Z",
     "shell.execute_reply": "2021-06-27T18:06:49.499466Z",
     "shell.execute_reply.started": "2021-06-27T18:06:49.493066Z"
    }
   },
   "outputs": [
    {
     "name": "stdout",
     "output_type": "stream",
     "text": [
      "(727, 100) (727,) (307, 100) (307,)\n"
     ]
    }
   ],
   "source": [
    "time_step=100\n",
    "X_train, Y_train = create_dataset(train_data, time_step)\n",
    "X_test, Y_test = create_dataset(test_data, time_step)\n",
    "print(X_train.shape, Y_train.shape, X_test.shape, Y_test.shape)\n",
    "#print(X_train, Y_train)"
   ]
  },
  {
   "cell_type": "code",
   "execution_count": 54,
   "metadata": {
    "execution": {
     "iopub.execute_input": "2021-06-27T18:07:01.57869Z",
     "iopub.status.busy": "2021-06-27T18:07:01.578279Z",
     "iopub.status.idle": "2021-06-27T18:07:01.583112Z",
     "shell.execute_reply": "2021-06-27T18:07:01.582456Z",
     "shell.execute_reply.started": "2021-06-27T18:07:01.578666Z"
    }
   },
   "outputs": [
    {
     "name": "stdout",
     "output_type": "stream",
     "text": [
      "(727, 100, 1) (307, 100, 1)\n"
     ]
    }
   ],
   "source": [
    "X_train =X_train.reshape(X_train.shape[0],X_train.shape[1] , 1)\n",
    "X_test = X_test.reshape(X_test.shape[0],X_test.shape[1] , 1)\n",
    "print(X_train.shape, X_test.shape)\n",
    "#print(X_train, Y_train)"
   ]
  },
  {
   "cell_type": "code",
   "execution_count": 55,
   "metadata": {
    "execution": {
     "iopub.execute_input": "2021-06-27T18:07:11.455665Z",
     "iopub.status.busy": "2021-06-27T18:07:11.45524Z",
     "iopub.status.idle": "2021-06-27T18:07:18.856327Z",
     "shell.execute_reply": "2021-06-27T18:07:18.855022Z",
     "shell.execute_reply.started": "2021-06-27T18:07:11.455641Z"
    }
   },
   "outputs": [
    {
     "name": "stdout",
     "output_type": "stream",
     "text": [
      "Model: \"sequential_3\"\n",
      "_________________________________________________________________\n",
      " Layer (type)                Output Shape              Param #   \n",
      "=================================================================\n",
      " lstm_9 (LSTM)               (None, 100, 50)           10400     \n",
      "                                                                 \n",
      " dropout_6 (Dropout)         (None, 100, 50)           0         \n",
      "                                                                 \n",
      " lstm_10 (LSTM)              (None, 100, 50)           20200     \n",
      "                                                                 \n",
      " dropout_7 (Dropout)         (None, 100, 50)           0         \n",
      "                                                                 \n",
      " lstm_11 (LSTM)              (None, 50)                20200     \n",
      "                                                                 \n",
      " dense_3 (Dense)             (None, 1)                 51        \n",
      "                                                                 \n",
      "=================================================================\n",
      "Total params: 50,851\n",
      "Trainable params: 50,851\n",
      "Non-trainable params: 0\n",
      "_________________________________________________________________\n"
     ]
    }
   ],
   "source": [
    "from tensorflow.keras.models import Sequential\n",
    "from tensorflow.keras.layers import Dense, Dropout\n",
    "from tensorflow.keras.layers import LSTM\n",
    "\n",
    "model=Sequential()\n",
    "model.add(LSTM(50,return_sequences=True,input_shape=(X_train.shape[1],X_train.shape[2])))\n",
    "model.add(Dropout(0.2))\n",
    "model.add(LSTM(50,return_sequences=True))\n",
    "model.add(Dropout(0.2))\n",
    "model.add(LSTM(50))\n",
    "model.add(Dense(1))\n",
    "model.compile(loss='mean_squared_error',optimizer='adam')\n",
    "\n",
    "model.summary()"
   ]
  },
  {
   "cell_type": "code",
   "execution_count": 56,
   "metadata": {
    "execution": {
     "iopub.execute_input": "2021-06-27T18:07:21.731744Z",
     "iopub.status.busy": "2021-06-27T18:07:21.731352Z",
     "iopub.status.idle": "2021-06-27T18:11:39.158655Z",
     "shell.execute_reply": "2021-06-27T18:11:39.157513Z",
     "shell.execute_reply.started": "2021-06-27T18:07:21.73172Z"
    }
   },
   "outputs": [
    {
     "name": "stdout",
     "output_type": "stream",
     "text": [
      "Epoch 1/100\n",
      "12/12 [==============================] - 16s 387ms/step - loss: 0.0356 - val_loss: 5.7350e-04\n",
      "Epoch 2/100\n",
      "12/12 [==============================] - 3s 245ms/step - loss: 0.0065 - val_loss: 4.6324e-04\n",
      "Epoch 3/100\n",
      "12/12 [==============================] - 3s 240ms/step - loss: 0.0024 - val_loss: 5.3606e-04\n",
      "Epoch 4/100\n",
      "12/12 [==============================] - 3s 280ms/step - loss: 0.0026 - val_loss: 3.2149e-04\n",
      "Epoch 5/100\n",
      "12/12 [==============================] - 3s 291ms/step - loss: 0.0022 - val_loss: 3.0559e-04\n",
      "Epoch 6/100\n",
      "12/12 [==============================] - 3s 241ms/step - loss: 0.0021 - val_loss: 3.5428e-04\n",
      "Epoch 7/100\n",
      "12/12 [==============================] - 3s 241ms/step - loss: 0.0020 - val_loss: 2.8391e-04\n",
      "Epoch 8/100\n",
      "12/12 [==============================] - 3s 240ms/step - loss: 0.0019 - val_loss: 3.0826e-04\n",
      "Epoch 9/100\n",
      "12/12 [==============================] - 3s 237ms/step - loss: 0.0020 - val_loss: 2.8955e-04\n",
      "Epoch 10/100\n",
      "12/12 [==============================] - 3s 237ms/step - loss: 0.0020 - val_loss: 2.9314e-04\n",
      "Epoch 11/100\n",
      "12/12 [==============================] - 3s 256ms/step - loss: 0.0020 - val_loss: 3.1211e-04\n",
      "Epoch 12/100\n",
      "12/12 [==============================] - 3s 293ms/step - loss: 0.0019 - val_loss: 2.7037e-04\n",
      "Epoch 13/100\n",
      "12/12 [==============================] - 3s 263ms/step - loss: 0.0019 - val_loss: 2.5783e-04\n",
      "Epoch 14/100\n",
      "12/12 [==============================] - 3s 246ms/step - loss: 0.0022 - val_loss: 2.5327e-04\n",
      "Epoch 15/100\n",
      "12/12 [==============================] - 3s 266ms/step - loss: 0.0018 - val_loss: 2.6351e-04\n",
      "Epoch 16/100\n",
      "12/12 [==============================] - 3s 275ms/step - loss: 0.0017 - val_loss: 2.9973e-04\n",
      "Epoch 17/100\n",
      "12/12 [==============================] - 3s 241ms/step - loss: 0.0019 - val_loss: 2.7451e-04\n",
      "Epoch 18/100\n",
      "12/12 [==============================] - 3s 246ms/step - loss: 0.0018 - val_loss: 2.3571e-04\n",
      "Epoch 19/100\n",
      "12/12 [==============================] - 3s 253ms/step - loss: 0.0017 - val_loss: 2.5615e-04\n",
      "Epoch 20/100\n",
      "12/12 [==============================] - 3s 238ms/step - loss: 0.0019 - val_loss: 2.4992e-04\n",
      "Epoch 21/100\n",
      "12/12 [==============================] - 3s 241ms/step - loss: 0.0017 - val_loss: 2.3291e-04\n",
      "Epoch 22/100\n",
      "12/12 [==============================] - 3s 242ms/step - loss: 0.0016 - val_loss: 2.5735e-04\n",
      "Epoch 23/100\n",
      "12/12 [==============================] - 3s 237ms/step - loss: 0.0016 - val_loss: 2.2500e-04\n",
      "Epoch 24/100\n",
      "12/12 [==============================] - 3s 236ms/step - loss: 0.0016 - val_loss: 2.4159e-04\n",
      "Epoch 25/100\n",
      "12/12 [==============================] - 3s 237ms/step - loss: 0.0015 - val_loss: 2.1807e-04\n",
      "Epoch 26/100\n",
      "12/12 [==============================] - 3s 259ms/step - loss: 0.0016 - val_loss: 2.1443e-04\n",
      "Epoch 27/100\n",
      "12/12 [==============================] - 3s 257ms/step - loss: 0.0015 - val_loss: 2.5274e-04\n",
      "Epoch 28/100\n",
      "12/12 [==============================] - 3s 267ms/step - loss: 0.0014 - val_loss: 2.0600e-04\n",
      "Epoch 29/100\n",
      "12/12 [==============================] - 3s 284ms/step - loss: 0.0014 - val_loss: 2.1727e-04\n",
      "Epoch 30/100\n",
      "12/12 [==============================] - 3s 271ms/step - loss: 0.0015 - val_loss: 2.3920e-04\n",
      "Epoch 31/100\n",
      "12/12 [==============================] - 3s 238ms/step - loss: 0.0020 - val_loss: 4.0144e-04\n",
      "Epoch 32/100\n",
      "12/12 [==============================] - 3s 237ms/step - loss: 0.0018 - val_loss: 2.6478e-04\n",
      "Epoch 33/100\n",
      "12/12 [==============================] - 3s 237ms/step - loss: 0.0014 - val_loss: 3.0544e-04\n",
      "Epoch 34/100\n",
      "12/12 [==============================] - 3s 238ms/step - loss: 0.0014 - val_loss: 1.9254e-04\n",
      "Epoch 35/100\n",
      "12/12 [==============================] - 3s 240ms/step - loss: 0.0014 - val_loss: 1.9998e-04\n",
      "Epoch 36/100\n",
      "12/12 [==============================] - 3s 241ms/step - loss: 0.0014 - val_loss: 2.6920e-04\n",
      "Epoch 37/100\n",
      "12/12 [==============================] - 3s 236ms/step - loss: 0.0014 - val_loss: 2.7481e-04\n",
      "Epoch 38/100\n",
      "12/12 [==============================] - 3s 240ms/step - loss: 0.0013 - val_loss: 2.6033e-04\n",
      "Epoch 39/100\n",
      "12/12 [==============================] - 3s 239ms/step - loss: 0.0013 - val_loss: 1.8489e-04\n",
      "Epoch 40/100\n",
      "12/12 [==============================] - 3s 238ms/step - loss: 0.0012 - val_loss: 1.9003e-04\n",
      "Epoch 41/100\n",
      "12/12 [==============================] - 3s 238ms/step - loss: 0.0012 - val_loss: 1.8308e-04\n",
      "Epoch 42/100\n",
      "12/12 [==============================] - 3s 237ms/step - loss: 0.0013 - val_loss: 1.9278e-04\n",
      "Epoch 43/100\n",
      "12/12 [==============================] - 3s 239ms/step - loss: 0.0012 - val_loss: 1.8447e-04\n",
      "Epoch 44/100\n",
      "12/12 [==============================] - 3s 239ms/step - loss: 0.0011 - val_loss: 2.6004e-04\n",
      "Epoch 45/100\n",
      "12/12 [==============================] - 3s 238ms/step - loss: 0.0012 - val_loss: 1.8276e-04\n",
      "Epoch 46/100\n",
      "12/12 [==============================] - 3s 240ms/step - loss: 0.0010 - val_loss: 2.4115e-04\n",
      "Epoch 47/100\n",
      "12/12 [==============================] - 3s 239ms/step - loss: 9.5622e-04 - val_loss: 1.7110e-04\n",
      "Epoch 48/100\n",
      "12/12 [==============================] - 3s 237ms/step - loss: 9.6743e-04 - val_loss: 1.9030e-04\n",
      "Epoch 49/100\n",
      "12/12 [==============================] - 3s 239ms/step - loss: 9.3701e-04 - val_loss: 1.5449e-04\n",
      "Epoch 50/100\n",
      "12/12 [==============================] - 3s 239ms/step - loss: 9.6073e-04 - val_loss: 2.4794e-04\n",
      "Epoch 51/100\n",
      "12/12 [==============================] - 3s 238ms/step - loss: 0.0012 - val_loss: 1.5216e-04\n",
      "Epoch 52/100\n",
      "12/12 [==============================] - 3s 238ms/step - loss: 0.0012 - val_loss: 1.8831e-04\n",
      "Epoch 53/100\n",
      "12/12 [==============================] - 3s 239ms/step - loss: 8.8609e-04 - val_loss: 1.8327e-04\n",
      "Epoch 54/100\n",
      "12/12 [==============================] - 3s 238ms/step - loss: 8.9706e-04 - val_loss: 1.5218e-04\n",
      "Epoch 55/100\n",
      "12/12 [==============================] - 3s 237ms/step - loss: 8.4936e-04 - val_loss: 1.4773e-04\n",
      "Epoch 56/100\n",
      "12/12 [==============================] - 3s 244ms/step - loss: 8.2240e-04 - val_loss: 2.2228e-04\n",
      "Epoch 57/100\n",
      "12/12 [==============================] - 3s 237ms/step - loss: 8.8631e-04 - val_loss: 1.4134e-04\n",
      "Epoch 58/100\n",
      "12/12 [==============================] - 3s 237ms/step - loss: 8.0286e-04 - val_loss: 1.5919e-04\n",
      "Epoch 59/100\n",
      "12/12 [==============================] - 3s 235ms/step - loss: 8.2293e-04 - val_loss: 1.4432e-04\n",
      "Epoch 60/100\n",
      "12/12 [==============================] - 3s 237ms/step - loss: 8.0359e-04 - val_loss: 2.0087e-04\n",
      "Epoch 61/100\n",
      "12/12 [==============================] - 3s 240ms/step - loss: 8.0631e-04 - val_loss: 1.4242e-04\n",
      "Epoch 62/100\n",
      "12/12 [==============================] - 3s 240ms/step - loss: 8.2288e-04 - val_loss: 1.5731e-04\n",
      "Epoch 63/100\n",
      "12/12 [==============================] - 3s 237ms/step - loss: 8.0427e-04 - val_loss: 1.5047e-04\n",
      "Epoch 64/100\n",
      "12/12 [==============================] - 3s 237ms/step - loss: 7.8013e-04 - val_loss: 1.9217e-04\n",
      "Epoch 65/100\n",
      "12/12 [==============================] - 3s 237ms/step - loss: 9.0029e-04 - val_loss: 1.4576e-04\n",
      "Epoch 66/100\n",
      "12/12 [==============================] - 3s 238ms/step - loss: 7.7748e-04 - val_loss: 1.4647e-04\n",
      "Epoch 67/100\n",
      "12/12 [==============================] - 3s 237ms/step - loss: 6.8029e-04 - val_loss: 1.8870e-04\n",
      "Epoch 68/100\n",
      "12/12 [==============================] - 3s 241ms/step - loss: 7.4004e-04 - val_loss: 1.5380e-04\n",
      "Epoch 69/100\n",
      "12/12 [==============================] - 3s 238ms/step - loss: 7.0171e-04 - val_loss: 1.4125e-04\n",
      "Epoch 70/100\n",
      "12/12 [==============================] - 3s 237ms/step - loss: 7.4550e-04 - val_loss: 1.4135e-04\n",
      "Epoch 71/100\n",
      "12/12 [==============================] - 3s 237ms/step - loss: 7.4741e-04 - val_loss: 1.5069e-04\n",
      "Epoch 72/100\n",
      "12/12 [==============================] - 3s 238ms/step - loss: 7.7396e-04 - val_loss: 1.3781e-04\n",
      "Epoch 73/100\n",
      "12/12 [==============================] - 3s 237ms/step - loss: 7.0673e-04 - val_loss: 2.0344e-04\n",
      "Epoch 74/100\n",
      "12/12 [==============================] - 3s 238ms/step - loss: 8.5805e-04 - val_loss: 1.3918e-04\n",
      "Epoch 75/100\n",
      "12/12 [==============================] - 3s 235ms/step - loss: 7.1312e-04 - val_loss: 1.9110e-04\n",
      "Epoch 76/100\n",
      "12/12 [==============================] - 3s 240ms/step - loss: 7.8950e-04 - val_loss: 1.8638e-04\n",
      "Epoch 77/100\n"
     ]
    },
    {
     "name": "stdout",
     "output_type": "stream",
     "text": [
      "12/12 [==============================] - 3s 235ms/step - loss: 8.1386e-04 - val_loss: 1.3773e-04\n",
      "Epoch 78/100\n",
      "12/12 [==============================] - 3s 235ms/step - loss: 6.6630e-04 - val_loss: 1.3653e-04\n",
      "Epoch 79/100\n",
      "12/12 [==============================] - 3s 237ms/step - loss: 7.2491e-04 - val_loss: 1.5316e-04\n",
      "Epoch 80/100\n",
      "12/12 [==============================] - 3s 237ms/step - loss: 7.0532e-04 - val_loss: 1.5837e-04\n",
      "Epoch 81/100\n",
      "12/12 [==============================] - 3s 237ms/step - loss: 6.5524e-04 - val_loss: 1.3683e-04\n",
      "Epoch 82/100\n",
      "12/12 [==============================] - 3s 238ms/step - loss: 6.4529e-04 - val_loss: 1.8053e-04\n",
      "Epoch 83/100\n",
      "12/12 [==============================] - 3s 237ms/step - loss: 9.0059e-04 - val_loss: 1.4879e-04\n",
      "Epoch 84/100\n",
      "12/12 [==============================] - 3s 237ms/step - loss: 7.3991e-04 - val_loss: 1.4706e-04\n",
      "Epoch 85/100\n",
      "12/12 [==============================] - 3s 235ms/step - loss: 7.0898e-04 - val_loss: 1.4803e-04\n",
      "Epoch 86/100\n",
      "12/12 [==============================] - 3s 241ms/step - loss: 7.6081e-04 - val_loss: 1.5284e-04\n",
      "Epoch 87/100\n",
      "12/12 [==============================] - 3s 250ms/step - loss: 7.2481e-04 - val_loss: 1.4556e-04\n",
      "Epoch 88/100\n",
      "12/12 [==============================] - 3s 246ms/step - loss: 7.0119e-04 - val_loss: 1.6324e-04\n",
      "Epoch 89/100\n",
      "12/12 [==============================] - 3s 238ms/step - loss: 6.3054e-04 - val_loss: 1.3371e-04\n",
      "Epoch 90/100\n",
      "12/12 [==============================] - 3s 237ms/step - loss: 6.7392e-04 - val_loss: 1.3630e-04\n",
      "Epoch 91/100\n",
      "12/12 [==============================] - 3s 237ms/step - loss: 6.1612e-04 - val_loss: 1.3100e-04\n",
      "Epoch 92/100\n",
      "12/12 [==============================] - 3s 235ms/step - loss: 6.1776e-04 - val_loss: 1.3785e-04\n",
      "Epoch 93/100\n",
      "12/12 [==============================] - 3s 235ms/step - loss: 6.4729e-04 - val_loss: 1.3611e-04\n",
      "Epoch 94/100\n",
      "12/12 [==============================] - 3s 238ms/step - loss: 6.4810e-04 - val_loss: 1.3397e-04\n",
      "Epoch 95/100\n",
      "12/12 [==============================] - 3s 237ms/step - loss: 7.6258e-04 - val_loss: 1.4800e-04\n",
      "Epoch 96/100\n",
      "12/12 [==============================] - 3s 235ms/step - loss: 6.9399e-04 - val_loss: 1.3797e-04\n",
      "Epoch 97/100\n",
      "12/12 [==============================] - 3s 239ms/step - loss: 8.2229e-04 - val_loss: 2.3048e-04\n",
      "Epoch 98/100\n",
      "12/12 [==============================] - 3s 237ms/step - loss: 7.9181e-04 - val_loss: 1.3751e-04\n",
      "Epoch 99/100\n",
      "12/12 [==============================] - 3s 238ms/step - loss: 7.2188e-04 - val_loss: 1.4277e-04\n",
      "Epoch 100/100\n",
      "12/12 [==============================] - 3s 238ms/step - loss: 6.1104e-04 - val_loss: 1.3546e-04\n"
     ]
    },
    {
     "data": {
      "text/plain": [
       "<keras.callbacks.History at 0x2102bece970>"
      ]
     },
     "execution_count": 56,
     "metadata": {},
     "output_type": "execute_result"
    }
   ],
   "source": [
    "model.fit(X_train,Y_train,validation_data=(X_test, Y_test),epochs=100,batch_size=64,verbose=1)"
   ]
  },
  {
   "cell_type": "code",
   "execution_count": 57,
   "metadata": {
    "execution": {
     "iopub.execute_input": "2021-06-27T18:12:01.56752Z",
     "iopub.status.busy": "2021-06-27T18:12:01.56705Z",
     "iopub.status.idle": "2021-06-27T18:12:04.191248Z",
     "shell.execute_reply": "2021-06-27T18:12:04.190247Z",
     "shell.execute_reply.started": "2021-06-27T18:12:01.567469Z"
    }
   },
   "outputs": [
    {
     "name": "stdout",
     "output_type": "stream",
     "text": [
      "(727, 1) (307, 1)\n"
     ]
    }
   ],
   "source": [
    "train_predict=model.predict(X_train)\n",
    "test_predict=model.predict(X_test)\n",
    "print(train_predict.shape, test_predict.shape)"
   ]
  },
  {
   "cell_type": "code",
   "execution_count": 58,
   "metadata": {
    "execution": {
     "iopub.execute_input": "2021-06-27T18:12:05.771693Z",
     "iopub.status.busy": "2021-06-27T18:12:05.771423Z",
     "iopub.status.idle": "2021-06-27T18:12:05.783388Z",
     "shell.execute_reply": "2021-06-27T18:12:05.781797Z",
     "shell.execute_reply.started": "2021-06-27T18:12:05.771671Z"
    }
   },
   "outputs": [
    {
     "name": "stdout",
     "output_type": "stream",
     "text": [
      "[[14.63975 ]\n",
      " [14.596388]\n",
      " [14.523245]\n",
      " [14.385443]\n",
      " [14.207821]\n",
      " [14.034393]\n",
      " [13.928982]\n",
      " [13.905223]\n",
      " [13.955712]\n",
      " [14.075886]\n",
      " [14.265673]\n",
      " [14.507461]\n",
      " [14.771   ]\n",
      " [15.002572]\n",
      " [15.172297]\n",
      " [15.257927]\n",
      " [15.255451]\n",
      " [15.311599]\n",
      " [15.645149]\n",
      " [16.496466]\n",
      " [17.729788]\n",
      " [19.039013]\n",
      " [20.120588]\n",
      " [20.866266]\n",
      " [21.299696]\n",
      " [21.448143]\n",
      " [21.334007]\n",
      " [20.989351]\n",
      " [20.487782]\n",
      " [19.897766]\n",
      " [19.279566]\n",
      " [18.73291 ]\n",
      " [18.353182]\n",
      " [18.13766 ]\n",
      " [18.07896 ]\n",
      " [18.15591 ]\n",
      " [18.31442 ]\n",
      " [18.466375]\n",
      " [18.524605]\n",
      " [18.428337]\n",
      " [18.162584]\n",
      " [17.803102]\n",
      " [17.42551 ]\n",
      " [17.06422 ]\n",
      " [16.748854]\n",
      " [16.497257]\n",
      " [16.320913]\n",
      " [16.260101]\n",
      " [16.278496]\n",
      " [16.345127]\n",
      " [16.452885]\n",
      " [16.581059]\n",
      " [16.793604]\n",
      " [17.036375]\n",
      " [17.32708 ]\n",
      " [17.61604 ]\n",
      " [17.857012]\n",
      " [17.981293]\n",
      " [17.972116]\n",
      " [17.841408]\n",
      " [17.61736 ]\n",
      " [17.344173]\n",
      " [17.072315]\n",
      " [16.84591 ]\n",
      " [16.676617]\n",
      " [16.563732]\n",
      " [16.498968]\n",
      " [16.499802]\n",
      " [16.563427]\n",
      " [16.662682]\n",
      " [16.767094]\n",
      " [16.86735 ]\n",
      " [16.980951]\n",
      " [17.176285]\n",
      " [17.425533]\n",
      " [17.708693]\n",
      " [17.989496]\n",
      " [18.275612]\n",
      " [18.533812]\n",
      " [18.755913]\n",
      " [18.973871]\n",
      " [19.187325]\n",
      " [19.382866]\n",
      " [19.55678 ]\n",
      " [19.699003]\n",
      " [19.787128]\n",
      " [19.79463 ]\n",
      " [19.805683]\n",
      " [19.885231]\n",
      " [20.073797]\n",
      " [20.44712 ]\n",
      " [20.98805 ]\n",
      " [21.560116]\n",
      " [22.052095]\n",
      " [22.405811]\n",
      " [22.566608]\n",
      " [22.539875]\n",
      " [22.358175]\n",
      " [22.06459 ]\n",
      " [21.693478]\n",
      " [21.496246]\n",
      " [21.617283]\n",
      " [21.99238 ]\n",
      " [22.479778]\n",
      " [23.055626]\n",
      " [23.747885]\n",
      " [24.498987]\n",
      " [25.348164]\n",
      " [26.241459]\n",
      " [27.099678]\n",
      " [27.811941]\n",
      " [28.259611]\n",
      " [28.448366]\n",
      " [28.390535]\n",
      " [28.128035]\n",
      " [27.728258]\n",
      " [27.312458]\n",
      " [26.881311]\n",
      " [26.45117 ]\n",
      " [26.037352]\n",
      " [25.628277]\n",
      " [25.182129]\n",
      " [24.776733]\n",
      " [24.490551]\n",
      " [24.323961]\n",
      " [24.257261]\n",
      " [24.25268 ]\n",
      " [24.287329]\n",
      " [24.334389]\n",
      " [24.351   ]\n",
      " [24.280413]\n",
      " [24.121983]\n",
      " [23.846645]\n",
      " [23.478416]\n",
      " [23.036097]\n",
      " [22.52552 ]\n",
      " [21.966688]\n",
      " [21.46416 ]\n",
      " [21.072828]\n",
      " [20.783764]\n",
      " [20.599066]\n",
      " [20.49843 ]\n",
      " [20.43601 ]\n",
      " [20.353338]\n",
      " [20.254045]\n",
      " [20.191156]\n",
      " [20.172817]\n",
      " [20.22509 ]\n",
      " [20.353708]\n",
      " [20.537111]\n",
      " [20.747217]\n",
      " [20.95415 ]\n",
      " [21.143003]\n",
      " [21.296354]\n",
      " [21.389801]\n",
      " [21.418186]\n",
      " [21.399345]\n",
      " [21.342424]\n",
      " [21.262632]\n",
      " [21.206987]\n",
      " [21.29729 ]\n",
      " [21.558111]\n",
      " [21.86434 ]\n",
      " [22.130688]\n",
      " [22.301512]\n",
      " [22.355724]\n",
      " [22.297598]\n",
      " [22.134281]\n",
      " [21.911013]\n",
      " [21.682035]\n",
      " [21.531914]\n",
      " [21.496233]\n",
      " [21.581253]\n",
      " [21.775812]\n",
      " [22.018972]\n",
      " [22.264687]\n",
      " [22.503584]\n",
      " [22.719275]\n",
      " [22.919525]\n",
      " [23.114277]\n",
      " [23.294031]\n",
      " [23.468794]\n",
      " [23.574001]\n",
      " [23.589588]\n",
      " [23.547745]\n",
      " [23.467192]\n",
      " [23.348166]\n",
      " [23.260242]\n",
      " [23.193308]\n",
      " [23.101768]\n",
      " [22.957418]\n",
      " [22.764133]\n",
      " [22.550268]\n",
      " [22.332937]\n",
      " [22.146984]\n",
      " [22.019733]\n",
      " [21.972525]\n",
      " [21.972176]\n",
      " [21.99554 ]\n",
      " [22.02762 ]\n",
      " [22.054562]\n",
      " [22.063177]\n",
      " [22.046347]\n",
      " [21.989126]\n",
      " [21.849077]\n",
      " [21.644775]\n",
      " [21.517776]\n",
      " [21.53115 ]\n",
      " [21.648516]\n",
      " [21.7965  ]\n",
      " [21.92327 ]\n",
      " [22.006126]\n",
      " [22.05272 ]\n",
      " [22.074392]\n",
      " [22.067238]\n",
      " [22.045347]\n",
      " [22.026443]\n",
      " [22.060152]\n",
      " [22.191467]\n",
      " [22.400604]\n",
      " [22.621756]\n",
      " [22.803274]\n",
      " [22.90684 ]\n",
      " [22.898375]\n",
      " [22.767948]\n",
      " [22.532022]\n",
      " [22.231153]\n",
      " [21.91473 ]\n",
      " [21.663712]\n",
      " [21.491219]\n",
      " [21.396269]\n",
      " [21.365845]\n",
      " [21.373608]\n",
      " [21.40088 ]\n",
      " [21.445724]\n",
      " [21.505793]\n",
      " [21.588442]\n",
      " [21.682152]\n",
      " [21.773157]\n",
      " [21.888056]\n",
      " [22.006287]\n",
      " [22.106903]\n",
      " [22.178598]\n",
      " [22.215393]\n",
      " [22.213837]\n",
      " [22.168787]\n",
      " [22.10058 ]\n",
      " [22.012648]\n",
      " [21.898289]\n",
      " [21.72291 ]\n",
      " [21.520773]\n",
      " [21.368498]\n",
      " [21.291824]\n",
      " [21.299858]\n",
      " [21.362648]\n",
      " [21.468967]\n",
      " [21.616745]\n",
      " [21.767813]\n",
      " [21.894758]\n",
      " [21.965813]\n",
      " [21.976404]\n",
      " [21.932878]\n",
      " [21.832201]\n",
      " [21.64943 ]\n",
      " [21.414568]\n",
      " [21.169605]\n",
      " [20.9342  ]\n",
      " [20.713564]\n",
      " [20.49971 ]\n",
      " [20.262285]\n",
      " [20.01341 ]\n",
      " [19.695192]\n",
      " [19.332014]\n",
      " [18.96684 ]\n",
      " [18.645819]\n",
      " [18.400944]\n",
      " [18.235802]\n",
      " [18.126507]\n",
      " [18.073277]\n",
      " [18.090588]\n",
      " [18.188843]\n",
      " [18.350634]\n",
      " [18.545282]\n",
      " [18.737268]\n",
      " [18.905283]\n",
      " [19.0395  ]\n",
      " [19.161085]\n",
      " [19.274323]\n",
      " [19.369444]\n",
      " [19.429886]\n",
      " [19.442993]\n",
      " [19.38737 ]\n",
      " [19.25725 ]\n",
      " [19.118992]\n",
      " [18.985643]\n",
      " [18.894922]\n",
      " [18.880106]\n",
      " [18.950466]\n",
      " [19.13146 ]\n",
      " [19.419086]\n",
      " [19.77084 ]\n",
      " [20.125713]\n",
      " [20.422676]\n",
      " [20.622486]\n",
      " [20.700174]\n",
      " [20.688293]\n",
      " [20.620838]]\n"
     ]
    }
   ],
   "source": [
    "train_predict=scaler.inverse_transform(train_predict)\n",
    "test_predict=scaler.inverse_transform(test_predict)\n",
    "print(test_predict)"
   ]
  },
  {
   "cell_type": "code",
   "execution_count": 59,
   "metadata": {
    "execution": {
     "iopub.execute_input": "2021-06-27T18:12:12.567887Z",
     "iopub.status.busy": "2021-06-27T18:12:12.56749Z",
     "iopub.status.idle": "2021-06-27T18:12:12.732292Z",
     "shell.execute_reply": "2021-06-27T18:12:12.731108Z",
     "shell.execute_reply.started": "2021-06-27T18:12:12.567863Z"
    }
   },
   "outputs": [
    {
     "data": {
      "image/png": "[encoded data removed]",
      "text/plain": [
       "<Figure size 432x288 with 1 Axes>"
      ]
     },
     "metadata": {
      "needs_background": "light"
     },
     "output_type": "display_data"
    }
   ],
   "source": [
    "X = scaler.fit_transform(np.array(close).reshape(-1,1))\n",
    "import matplotlib.pyplot as plt\n",
    "\n",
    "look_back=100\n",
    "trainPredictPlot = np.empty_like(X)\n",
    "trainPredictPlot[:, :] = np.nan\n",
    "trainPredictPlot[look_back:len(train_predict)+look_back, :] = train_predict\n",
    "\n",
    "testPredictPlot = np.empty_like(X)\n",
    "testPredictPlot[:, :] = np.nan\n",
    "testPredictPlot[len(train_predict)+(look_back*2)+1:len(X)-1, :] = test_predict\n",
    "plt.plot(scaler.inverse_transform(X))\n",
    "plt.plot(trainPredictPlot)\n",
    "plt.plot(testPredictPlot)\n",
    "plt.show()"
   ]
  },
  {
   "cell_type": "code",
   "execution_count": 60,
   "metadata": {},
   "outputs": [],
   "source": [
    "model.save('centralbank_model.h5')"
   ]
  },
  {
   "cell_type": "code",
   "execution_count": null,
   "metadata": {},
   "outputs": [],
   "source": []
  }
 ],
 "metadata": {
  "kernelspec": {
   "display_name": "Python 3 (ipykernel)",
   "language": "python",
   "name": "python3"
  },
  "language_info": {
   "codemirror_mode": {
    "name": "ipython",
    "version": 3
   },
   "file_extension": ".py",
   "mimetype": "text/x-python",
   "name": "python",
   "nbconvert_exporter": "python",
   "pygments_lexer": "ipython3",
   "version": "3.9.7"
  }
 },
 "nbformat": 4,
 "nbformat_minor": 4
}
