{
 "cells": [
  {
   "cell_type": "code",
   "execution_count": null,
   "metadata": {
    "_cell_guid": "b1076dfc-b9ad-4769-8c92-a6c4dae69d19",
    "_uuid": "8f2839f25d086af736a60e9eeb907d3b93b6e0e5",
    "execution": {
     "iopub.execute_input": "2021-06-27T18:04:58.467727Z",
     "iopub.status.busy": "2021-06-27T18:04:58.467291Z",
     "iopub.status.idle": "2021-06-27T18:04:58.493084Z",
     "shell.execute_reply": "2021-06-27T18:04:58.492171Z",
     "shell.execute_reply.started": "2021-06-27T18:04:58.467656Z"
    }
   },
   "outputs": [],
   "source": [
    "\n",
    "\n",
    "import numpy as np # linear algebra\n",
    "import pandas as pd # data processing, CSV file I/O (e.g. pd.read_csv)\n",
    "\n",
    "\n",
    "\n",
    "import os\n",
    "for dirname, _, filenames in os.walk('/kaggle/input'):\n",
    "    for filename in filenames:\n",
    "        print(os.path.join(dirname, filename))"
   ]
  },
  {
   "cell_type": "code",
   "execution_count": null,
   "metadata": {
    "execution": {
     "iopub.execute_input": "2021-06-27T18:05:28.887317Z",
     "iopub.status.busy": "2021-06-27T18:05:28.886906Z",
     "iopub.status.idle": "2021-06-27T18:05:28.9303Z",
     "shell.execute_reply": "2021-06-27T18:05:28.928792Z",
     "shell.execute_reply.started": "2021-06-27T18:05:28.887293Z"
    }
   },
   "outputs": [],
   "source": [
    "df = pd.read_csv(\"../input/bank-dataset/UNIONBANK_5Y.csv\")\n",
    "df.head()"
   ]
  },
  {
   "cell_type": "code",
   "execution_count": null,
   "metadata": {
    "execution": {
     "iopub.execute_input": "2021-06-27T18:05:46.927875Z",
     "iopub.status.busy": "2021-06-27T18:05:46.927591Z",
     "iopub.status.idle": "2021-06-27T18:05:46.934549Z",
     "shell.execute_reply": "2021-06-27T18:05:46.933699Z",
     "shell.execute_reply.started": "2021-06-27T18:05:46.927851Z"
    }
   },
   "outputs": [],
   "source": [
    "close = df[\"Close\"]\n",
    "close.shape\n",
    "close"
   ]
  },
  {
   "cell_type": "code",
   "execution_count": null,
   "metadata": {
    "execution": {
     "iopub.execute_input": "2021-06-27T18:06:00.466987Z",
     "iopub.status.busy": "2021-06-27T18:06:00.466605Z",
     "iopub.status.idle": "2021-06-27T18:06:00.472764Z",
     "shell.execute_reply": "2021-06-27T18:06:00.471993Z",
     "shell.execute_reply.started": "2021-06-27T18:06:00.466962Z"
    }
   },
   "outputs": [],
   "source": [
    "close = close.dropna()\n",
    "close.shape"
   ]
  },
  {
   "cell_type": "code",
   "execution_count": null,
   "metadata": {
    "execution": {
     "iopub.execute_input": "2021-06-27T18:06:17.422769Z",
     "iopub.status.busy": "2021-06-27T18:06:17.422426Z",
     "iopub.status.idle": "2021-06-27T18:06:18.62155Z",
     "shell.execute_reply": "2021-06-27T18:06:18.621025Z",
     "shell.execute_reply.started": "2021-06-27T18:06:17.42274Z"
    }
   },
   "outputs": [],
   "source": [
    "from sklearn.preprocessing import MinMaxScaler\n",
    "scaler = MinMaxScaler(feature_range=(0,1))\n",
    "tmp = scaler.fit(np.array(close).reshape(-1,1))\n",
    "new_df = scaler.transform(np.array(close).reshape(-1,1))\n",
    "\n",
    " \n",
    "print(new_df)"
   ]
  },
  {
   "cell_type": "code",
   "execution_count": null,
   "metadata": {
    "execution": {
     "iopub.execute_input": "2021-06-27T18:06:31.661922Z",
     "iopub.status.busy": "2021-06-27T18:06:31.661531Z",
     "iopub.status.idle": "2021-06-27T18:06:31.667961Z",
     "shell.execute_reply": "2021-06-27T18:06:31.666876Z",
     "shell.execute_reply.started": "2021-06-27T18:06:31.661897Z"
    }
   },
   "outputs": [],
   "source": [
    "training_size=int(len(new_df)*0.67)\n",
    "test_size=len(new_df)-training_size\n",
    "train_data,test_data=new_df[0:training_size,:],new_df[training_size:len(new_df),:1]\n",
    "\n",
    "print(train_data.shape)\n",
    "print(test_data.shape)"
   ]
  },
  {
   "cell_type": "code",
   "execution_count": null,
   "metadata": {
    "execution": {
     "iopub.execute_input": "2021-06-27T18:06:40.302482Z",
     "iopub.status.busy": "2021-06-27T18:06:40.302115Z",
     "iopub.status.idle": "2021-06-27T18:06:40.308353Z",
     "shell.execute_reply": "2021-06-27T18:06:40.307241Z",
     "shell.execute_reply.started": "2021-06-27T18:06:40.302459Z"
    }
   },
   "outputs": [],
   "source": [
    "def create_dataset(dataset, time_step=1):\n",
    "\tdataX, dataY = [], []\n",
    "\tfor i in range(len(dataset)-time_step-1):\n",
    "\t\ta = dataset[i:(i+time_step), 0]   ###i=0, 0,1,2,3-----99   100 \n",
    "\t\tdataX.append(a)\n",
    "\t\tdataY.append(dataset[i + time_step, 0])\n",
    "\treturn np.array(dataX), np.array(dataY)"
   ]
  },
  {
   "cell_type": "code",
   "execution_count": null,
   "metadata": {
    "execution": {
     "iopub.execute_input": "2021-06-27T18:06:49.49309Z",
     "iopub.status.busy": "2021-06-27T18:06:49.492788Z",
     "iopub.status.idle": "2021-06-27T18:06:49.500357Z",
     "shell.execute_reply": "2021-06-27T18:06:49.499466Z",
     "shell.execute_reply.started": "2021-06-27T18:06:49.493066Z"
    }
   },
   "outputs": [],
   "source": [
    "time_step=100\n",
    "X_train, Y_train = create_dataset(train_data, time_step)\n",
    "X_test, Y_test = create_dataset(test_data, time_step)\n",
    "print(X_train.shape, Y_train.shape, X_test.shape, Y_test.shape)\n",
    "#print(X_train, Y_train)"
   ]
  },
  {
   "cell_type": "code",
   "execution_count": null,
   "metadata": {
    "execution": {
     "iopub.execute_input": "2021-06-27T18:07:01.57869Z",
     "iopub.status.busy": "2021-06-27T18:07:01.578279Z",
     "iopub.status.idle": "2021-06-27T18:07:01.583112Z",
     "shell.execute_reply": "2021-06-27T18:07:01.582456Z",
     "shell.execute_reply.started": "2021-06-27T18:07:01.578666Z"
    }
   },
   "outputs": [],
   "source": [
    "X_train =X_train.reshape(X_train.shape[0],X_train.shape[1] , 1)\n",
    "X_test = X_test.reshape(X_test.shape[0],X_test.shape[1] , 1)\n",
    "print(X_train.shape, X_test.shape)\n",
    "#print(X_train, Y_train)"
   ]
  },
  {
   "cell_type": "code",
   "execution_count": null,
   "metadata": {
    "execution": {
     "iopub.execute_input": "2021-06-27T18:07:11.455665Z",
     "iopub.status.busy": "2021-06-27T18:07:11.45524Z",
     "iopub.status.idle": "2021-06-27T18:07:18.856327Z",
     "shell.execute_reply": "2021-06-27T18:07:18.855022Z",
     "shell.execute_reply.started": "2021-06-27T18:07:11.455641Z"
    }
   },
   "outputs": [],
   "source": [
    "from tensorflow.keras.models import Sequential\n",
    "from tensorflow.keras.layers import Dense, Dropout\n",
    "from tensorflow.keras.layers import LSTM\n",
    "\n",
    "model=Sequential()\n",
    "model.add(LSTM(50,return_sequences=True,input_shape=(X_train.shape[1],X_train.shape[2])))\n",
    "model.add(Dropout(0.2))\n",
    "model.add(LSTM(50,return_sequences=True))\n",
    "model.add(Dropout(0.2))\n",
    "model.add(LSTM(50))\n",
    "model.add(Dense(1))\n",
    "model.compile(loss='mean_squared_error',optimizer='adam')\n",
    "\n",
    "model.summary()"
   ]
  },
  {
   "cell_type": "code",
   "execution_count": null,
   "metadata": {
    "execution": {
     "iopub.execute_input": "2021-06-27T18:07:21.731744Z",
     "iopub.status.busy": "2021-06-27T18:07:21.731352Z",
     "iopub.status.idle": "2021-06-27T18:11:39.158655Z",
     "shell.execute_reply": "2021-06-27T18:11:39.157513Z",
     "shell.execute_reply.started": "2021-06-27T18:07:21.73172Z"
    }
   },
   "outputs": [],
   "source": [
    "model.fit(X_train,Y_train,validation_data=(X_test, Y_test),epochs=100,batch_size=64,verbose=1)"
   ]
  },
  {
   "cell_type": "code",
   "execution_count": null,
   "metadata": {
    "execution": {
     "iopub.execute_input": "2021-06-27T18:12:01.56752Z",
     "iopub.status.busy": "2021-06-27T18:12:01.56705Z",
     "iopub.status.idle": "2021-06-27T18:12:04.191248Z",
     "shell.execute_reply": "2021-06-27T18:12:04.190247Z",
     "shell.execute_reply.started": "2021-06-27T18:12:01.567469Z"
    }
   },
   "outputs": [],
   "source": [
    "train_predict=model.predict(X_train)\n",
    "test_predict=model.predict(X_test)\n",
    "print(train_predict.shape, test_predict.shape)"
   ]
  },
  {
   "cell_type": "code",
   "execution_count": null,
   "metadata": {
    "execution": {
     "iopub.execute_input": "2021-06-27T18:12:05.771693Z",
     "iopub.status.busy": "2021-06-27T18:12:05.771423Z",
     "iopub.status.idle": "2021-06-27T18:12:05.783388Z",
     "shell.execute_reply": "2021-06-27T18:12:05.781797Z",
     "shell.execute_reply.started": "2021-06-27T18:12:05.771671Z"
    }
   },
   "outputs": [],
   "source": [
    "train_predict=scaler.inverse_transform(train_predict)\n",
    "test_predict=scaler.inverse_transform(test_predict)\n",
    "print(test_predict)"
   ]
  },
  {
   "cell_type": "code",
   "execution_count": null,
   "metadata": {
    "execution": {
     "iopub.execute_input": "2021-06-27T18:12:12.567887Z",
     "iopub.status.busy": "2021-06-27T18:12:12.56749Z",
     "iopub.status.idle": "2021-06-27T18:12:12.732292Z",
     "shell.execute_reply": "2021-06-27T18:12:12.731108Z",
     "shell.execute_reply.started": "2021-06-27T18:12:12.567863Z"
    }
   },
   "outputs": [],
   "source": [
    "X = scaler.fit_transform(np.array(close).reshape(-1,1))\n",
    "import matplotlib.pyplot as plt\n",
    "\n",
    "look_back=100\n",
    "trainPredictPlot = np.empty_like(X)\n",
    "trainPredictPlot[:, :] = np.nan\n",
    "trainPredictPlot[look_back:len(train_predict)+look_back, :] = train_predict\n",
    "\n",
    "testPredictPlot = np.empty_like(X)\n",
    "testPredictPlot[:, :] = np.nan\n",
    "testPredictPlot[len(train_predict)+(look_back*2)+1:len(X)-1, :] = test_predict\n",
    "plt.plot(scaler.inverse_transform(X))\n",
    "plt.plot(trainPredictPlot)\n",
    "plt.plot(testPredictPlot)\n",
    "plt.show()"
   ]
  }
 ],
 "metadata": {
  "kernelspec": {
   "display_name": "Python 3 (ipykernel)",
   "language": "python",
   "name": "python3"
  },
  "language_info": {
   "codemirror_mode": {
    "name": "ipython",
    "version": 3
   },
   "file_extension": ".py",
   "mimetype": "text/x-python",
   "name": "python",
   "nbconvert_exporter": "python",
   "pygments_lexer": "ipython3",
   "version": "3.9.7"
  }
 },
 "nbformat": 4,
 "nbformat_minor": 4
}
